{
 "cells": [
  {
   "cell_type": "code",
   "execution_count": 1,
   "metadata": {},
   "outputs": [
    {
     "name": "stderr",
     "output_type": "stream",
     "text": [
      "Fontconfig warning: ignoring UTF-8: not a valid region tag\n"
     ]
    }
   ],
   "source": [
    "import os\n",
    "from typing import Dict, List, Tuple\n",
    "\n",
    "import gymnasium as gym\n",
    "import matplotlib.pyplot as plt\n",
    "import numpy as np\n",
    "import torch\n",
    "import torch.nn as nn\n",
    "import torch.nn.functional as F\n",
    "import torch.optim as optim\n",
    "from IPython.display import clear_output\n",
    "from torch.nn.utils import clip_grad_norm"
   ]
  },
  {
   "cell_type": "code",
   "execution_count": 2,
   "metadata": {},
   "outputs": [],
   "source": [
    "# 设计replay存贮机制，需要存储的数据分别为当前状态，下个状态，动作，奖励，游戏是否结束\n",
    "# 考虑使用ndarray 数据结构存储数据\n",
    "# 需要设计存储新数据的方法和批次抽样方法\n",
    "class ReplayBuffer:\n",
    "    \"\"\"A simple numpy replay buffer.\"\"\"\n",
    "\n",
    "    def __init__(self, obs_dim: int, size: int, batch_size: int = 32):\n",
    "        self.obs_buf = np.zeros([size, obs_dim], dtype=np.float32)\n",
    "        self.next_obs_buf = np.zeros([size, obs_dim], dtype=np.float32)\n",
    "        self.acts_buf = np.zeros([size], dtype=np.float32)\n",
    "        self.rews_buf = np.zeros([size], dtype=np.float32)\n",
    "        self.done_buf = np.zeros(size, dtype=np.float32)\n",
    "        self.max_size, self.batch_size = size, batch_size\n",
    "        self.ptr, self.size, = 0, 0\n",
    "\n",
    "    def store(\n",
    "        self,\n",
    "        obs: np.ndarray,\n",
    "        act: np.ndarray, \n",
    "        rew: float, \n",
    "        next_obs: np.ndarray, \n",
    "        done: bool,\n",
    "    ):\n",
    "        self.obs_buf[self.ptr] = obs\n",
    "        self.next_obs_buf[self.ptr] = next_obs\n",
    "        self.acts_buf[self.ptr] = act\n",
    "        self.rews_buf[self.ptr] = rew\n",
    "        self.done_buf[self.ptr] = done\n",
    "        # update pointer, 如果超过了最大容量，就开始覆盖数据\n",
    "        self.ptr = (self.ptr + 1) % self.max_size\n",
    "        # 如果装满了，计数器就一直维持在最大容量值\n",
    "        self.size = min(self.size + 1, self.max_size)\n",
    "        \n",
    "    #使用字典的形式来存储这一批样本\n",
    "    def sample_batch(self) -> Dict[str, np.ndarray]:\n",
    "        idxs = np.random.choice(self.size, size=self.batch_size, replace=False)\n",
    "        return dict(obs=self.obs_buf[idxs],\n",
    "                    next_obs=self.next_obs_buf[idxs],\n",
    "                    acts=self.acts_buf[idxs],\n",
    "                    rews=self.rews_buf[idxs],\n",
    "                    done=self.done_buf[idxs])\n",
    "\n",
    "    def __len__(self) -> int:\n",
    "        return self.size"
   ]
  },
  {
   "cell_type": "code",
   "execution_count": 3,
   "metadata": {},
   "outputs": [],
   "source": [
    "class Network(nn.Module):\n",
    "    def __init__(self, input_dim: int, output_dim: int) -> None:\n",
    "        super().__init__()\n",
    "\n",
    "        self.feature_layer = nn.Sequential(\n",
    "            nn.Linear(input_dim, 128),\n",
    "            nn.ReLU(),\n",
    "        )\n",
    "\n",
    "        self.advantage_layer = nn.Sequential(\n",
    "            nn.Linear(128, 128),\n",
    "            nn.ReLU(),\n",
    "            nn.Linear(128, output_dim),\n",
    "        )\n",
    "\n",
    "        self.value_layer = nn.Sequential(\n",
    "            nn.Linear(128, 128),\n",
    "            nn.ReLU(),\n",
    "            nn.Linear(128, 1),\n",
    "        )\n",
    "\n",
    "    def forward(self, x: torch.Tensor) -> torch.Tensor:\n",
    "        feature = self.feature_layer(x)\n",
    "        advantages = self.advantage_layer(feature)\n",
    "        value = self.value_layer(feature)\n",
    "        # 有可能传入只有一条样本，直接求均值就可，如果是批量传入，则按照dim=-1 = 最后一维1，按行求均值，并保留维度\n",
    "        q_value = advantages + value - advantages.mean(dim=-1, keepdim=True)\n",
    "        return q_value"
   ]
  },
  {
   "cell_type": "code",
   "execution_count": 4,
   "metadata": {},
   "outputs": [],
   "source": [
    "adv = torch.Tensor(np.array([[1,2,3,4],[5,6,7,8]]))"
   ]
  },
  {
   "cell_type": "code",
   "execution_count": 5,
   "metadata": {},
   "outputs": [
    {
     "data": {
      "text/plain": [
       "tensor([[1., 2., 3., 4.],\n",
       "        [5., 6., 7., 8.]])"
      ]
     },
     "execution_count": 5,
     "metadata": {},
     "output_type": "execute_result"
    }
   ],
   "source": [
    "adv"
   ]
  },
  {
   "cell_type": "code",
   "execution_count": 6,
   "metadata": {},
   "outputs": [
    {
     "data": {
      "text/plain": [
       "tensor([2.5000, 6.5000])"
      ]
     },
     "execution_count": 6,
     "metadata": {},
     "output_type": "execute_result"
    }
   ],
   "source": [
    "adv.mean(dim=-1)"
   ]
  },
  {
   "cell_type": "code",
   "execution_count": 7,
   "metadata": {},
   "outputs": [
    {
     "data": {
      "text/plain": [
       "tensor([[2.5000],\n",
       "        [6.5000]])"
      ]
     },
     "execution_count": 7,
     "metadata": {},
     "output_type": "execute_result"
    }
   ],
   "source": [
    "adv.mean(dim=-1, keepdim=True)"
   ]
  },
  {
   "cell_type": "code",
   "execution_count": 8,
   "metadata": {},
   "outputs": [],
   "source": [
    "# Define the Class of DQN\n",
    "class Dueling_DQNAgent:\n",
    "\n",
    "    def __init__(\n",
    "            self,\n",
    "            env: gym.Env,\n",
    "            memory_size: int,\n",
    "            batch_size: int,\n",
    "            epsilon_decay: float,\n",
    "            target_update: int,\n",
    "            seed: int,\n",
    "            max_epsilon: float=1.0,\n",
    "            min_epsilon: float=0.1,\n",
    "            gamma: float=0.99\n",
    "            ):\n",
    "        \n",
    "        obs_dim = env.observation_space.shape[0]\n",
    "        action_dim = env.action_space.n\n",
    "        self.memory = ReplayBuffer(obs_dim, memory_size, batch_size)\n",
    "        self.env = env\n",
    "        self.batch_size = batch_size\n",
    "        self.epsilon_decay = epsilon_decay\n",
    "        self.seed = seed\n",
    "        self.epsilon = max_epsilon\n",
    "        self.max_epsilon = max_epsilon\n",
    "        self.min_epsilon = min_epsilon\n",
    "        self.target_update = target_update\n",
    "        self.gamma = gamma\n",
    "        self.device = torch.device(\"cuda\" if torch.cuda.is_available() else \"cpu\")\n",
    "\n",
    "        self.dqn = Network(obs_dim, action_dim).to(self.device)\n",
    "        self.target_dqn = Network(obs_dim, action_dim).to(self.device)\n",
    "        self.target_dqn.load_state_dict(self.dqn.state_dict())\n",
    "        self.target_dqn.eval()\n",
    "\n",
    "        self.optimizer = optim.Adam(self.dqn.parameters())\n",
    "        self.transition = list()\n",
    "        self.is_test = False\n",
    "\n",
    "    def select_action(self, state: np.ndarray):\n",
    "\n",
    "        if self.epsilon > np.random.random():\n",
    "            cur_action = self.env.action_space.sample()\n",
    "        else:\n",
    "            cur_action = self.dqn(torch.tensor(state).to(self.device)).argmax()\n",
    "            # cur_action = cur_action.detach().cpu().numpy()\n",
    "            cur_action = cur_action.detach().numpy()\n",
    "        if not self.is_test:\n",
    "            self.transition = [state, cur_action]\n",
    "\n",
    "        return cur_action\n",
    "    \n",
    "    # return new_state, reward, done\n",
    "    # 使用一个缓存器，存储一个样本，然后再将样本存到replaybuff中\n",
    "    def step(self, action):\n",
    "\n",
    "        self.env.step(action)\n",
    "        new_state, reward, terminated, truncated, info = env.step(action)\n",
    "        done = terminated or truncated\n",
    "\n",
    "        if not self.is_test:\n",
    "            self.transition += [reward, new_state, done]\n",
    "            self.memory.store(*self.transition)\n",
    "\n",
    "        return new_state, reward, done\n",
    "    \n",
    "    def update_model(self):\n",
    "\n",
    "        samples = self.memory.sample_batch()\n",
    "        loss = self._compute_dqn_loss(samples)\n",
    "        self.optimizer.zero_grad()\n",
    "        loss.backward()\n",
    "        clip_grad_norm(self.dqn.parameters(), 10.0)\n",
    "        self.optimizer.step()\n",
    "        return loss.item()\n",
    "    \n",
    "    def train(self, num_frames, plotting_interval: int = 200 ):\n",
    "\n",
    "        self.is_test = False\n",
    "        state, _ = self.env.reset(seed=self.seed)\n",
    "        update_cnt = 0\n",
    "        epsilons = []\n",
    "        losses = []\n",
    "        scores = []\n",
    "        score = 0\n",
    "\n",
    "        for frame_idx in range(1, num_frames+1):\n",
    "            #train model and record mid_result\n",
    "            #1. 先生成足够一个batch的样本\n",
    "            #2. 生成之后一边网络更新，一边生成新的样本\n",
    "            cur_action = self.select_action(state)\n",
    "            new_state, reward, done = self.step(cur_action)\n",
    "            state = new_state\n",
    "            score += reward\n",
    "\n",
    "            if done:\n",
    "                state, _ = self.env.reset(seed=self.seed)\n",
    "                scores.append(score)\n",
    "                score = 0\n",
    "\n",
    "            if len(self.memory) >= self.batch_size:\n",
    "                loss = self.update_model()\n",
    "                losses.append(loss)\n",
    "                update_cnt += 1\n",
    "\n",
    "                self.epsilon = max(self.min_epsilon, self.epsilon - (self.max_epsilon - self.min_epsilon) * self.epsilon_decay)\n",
    "                epsilons.append(self.epsilon)\n",
    "\n",
    "                if update_cnt % self.target_update == 0:\n",
    "                    self._target_hard_update()\n",
    "                    \n",
    "            if frame_idx % plotting_interval == 0:\n",
    "                self.plot(frame_idx, scores, losses, epsilons)\n",
    "\n",
    "        self.env.close()\n",
    "\n",
    "    def _compute_dqn_loss(self, samples: Dict[str, np.ndarray]):\n",
    "        device = self.device\n",
    "        state = torch.FloatTensor(samples[\"obs\"]).to(device)\n",
    "        next_state = torch.FloatTensor(samples[\"next_obs\"]).to(device)\n",
    "        action = torch.LongTensor(samples[\"acts\"].reshape(-1,1)).to(device)\n",
    "        # print(action)\n",
    "        reward = torch.FloatTensor(samples[\"rews\"].reshape(-1,1)).to(device)\n",
    "        done = torch.FloatTensor(samples[\"done\"].reshape(-1, )).to(device)\n",
    "\n",
    "        cur_q_value = self.dqn(state).gather(1, action)\n",
    "        # print(cur_q_value)\n",
    "        next_q_value = self.target_dqn(next_state).max(dim=1, keepdim=True)[0].detach()\n",
    "        mask = 1 - done\n",
    "        target = (reward + self.gamma * next_q_value * mask).to(self.device)\n",
    "\n",
    "        loss = F.smooth_l1_loss(cur_q_value, target)\n",
    "\n",
    "        return loss\n",
    "\n",
    "    def _target_hard_update(self):\n",
    "        self.target_dqn.load_state_dict(self.dqn.state_dict())\n",
    "\n",
    "    def plot(self, frame_idx, scores, losses, epsilons):\n",
    "        clear_output(True)\n",
    "        plt.figure(figsize=(20, 5))\n",
    "        plt.subplot(131)\n",
    "        plt.title('frame %s. score: %s' % (frame_idx, np.mean(scores[-10:])))\n",
    "        plt.plot(scores)\n",
    "        plt.subplot(132)\n",
    "        plt.title('loss')\n",
    "        plt.plot(losses)\n",
    "        plt.subplot(133)\n",
    "        plt.title('epsilons')\n",
    "        plt.plot(epsilons)\n",
    "        plt.show()\n",
    "        \n",
    "    def test(self, video_folder: str) -> None:\n",
    "        \"\"\"Test the agent.\"\"\"\n",
    "        self.is_test = True\n",
    "        \n",
    "        # for recording a video\n",
    "        naive_env = self.env\n",
    "        self.env = gym.wrappers.RecordVideo(self.env, video_folder=video_folder)\n",
    "        \n",
    "        state, _ = self.env.reset(seed=self.seed)\n",
    "        done = False\n",
    "        score = 0\n",
    "        \n",
    "        while not done:\n",
    "            action = self.select_action(state)\n",
    "            next_state, reward, done = self.step(action)\n",
    "\n",
    "            state = next_state\n",
    "            score += reward\n",
    "        \n",
    "        print(\"score: \", score)\n",
    "        self.env.close()\n",
    "        \n",
    "        # reset\n",
    "        self.env = naive_env\n",
    "\n",
    "\n",
    "        "
   ]
  },
  {
   "cell_type": "code",
   "execution_count": 9,
   "metadata": {},
   "outputs": [],
   "source": [
    "env = gym.make(\"CartPole-v1\", max_episode_steps=200, render_mode=\"rgb_array\")"
   ]
  },
  {
   "cell_type": "code",
   "execution_count": 10,
   "metadata": {},
   "outputs": [],
   "source": [
    "seed = 777\n",
    "\n",
    "def seed_torch(seed):\n",
    "    torch.manual_seed(seed)\n",
    "    if torch.backends.cudnn.enabled:\n",
    "        torch.cuda.manual_seed(seed)\n",
    "        torch.backends.cudnn.benchmark = False\n",
    "        torch.backends.cudnn.deterministic = True\n",
    "\n",
    "np.random.seed(seed)\n",
    "seed_torch(seed)"
   ]
  },
  {
   "cell_type": "code",
   "execution_count": 11,
   "metadata": {},
   "outputs": [],
   "source": [
    "# parameters\n",
    "num_frames = 10000\n",
    "memory_size = 1000\n",
    "batch_size = 32\n",
    "target_update = 100\n",
    "epsilon_decay = 1 / 2000\n",
    "\n",
    "# train\n",
    "agent = Dueling_DQNAgent(env, memory_size, batch_size, target_update, epsilon_decay, seed)"
   ]
  },
  {
   "cell_type": "code",
   "execution_count": 12,
   "metadata": {},
   "outputs": [
    {
     "name": "stderr",
     "output_type": "stream",
     "text": [
      "findfont: Generic family 'sans-serif' not found because none of the following families were found: Noto Sans CJK SC Regular, 思源等宽, 黑体, Noto Serif CJK SC, 思源宋体, Noto Sans Mono CJK SC Regularsans-serif\n",
      "findfont: Generic family 'sans-serif' not found because none of the following families were found: Noto Sans CJK SC Regular, 思源等宽, 黑体, Noto Serif CJK SC, 思源宋体, Noto Sans Mono CJK SC Regularsans-serif\n",
      "findfont: Generic family 'sans-serif' not found because none of the following families were found: Noto Sans CJK SC Regular, 思源等宽, 黑体, Noto Serif CJK SC, 思源宋体, Noto Sans Mono CJK SC Regularsans-serif\n",
      "findfont: Generic family 'sans-serif' not found because none of the following families were found: Noto Sans CJK SC Regular, 思源等宽, 黑体, Noto Serif CJK SC, 思源宋体, Noto Sans Mono CJK SC Regularsans-serif\n",
      "findfont: Generic family 'sans-serif' not found because none of the following families were found: Noto Sans CJK SC Regular, 思源等宽, 黑体, Noto Serif CJK SC, 思源宋体, Noto Sans Mono CJK SC Regularsans-serif\n",
      "findfont: Generic family 'sans-serif' not found because none of the following families were found: Noto Sans CJK SC Regular, 思源等宽, 黑体, Noto Serif CJK SC, 思源宋体, Noto Sans Mono CJK SC Regularsans-serif\n",
      "findfont: Generic family 'sans-serif' not found because none of the following families were found: Noto Sans CJK SC Regular, 思源等宽, 黑体, Noto Serif CJK SC, 思源宋体, Noto Sans Mono CJK SC Regularsans-serif\n",
      "findfont: Generic family 'sans-serif' not found because none of the following families were found: Noto Sans CJK SC Regular, 思源等宽, 黑体, Noto Serif CJK SC, 思源宋体, Noto Sans Mono CJK SC Regularsans-serif\n",
      "findfont: Generic family 'sans-serif' not found because none of the following families were found: Noto Sans CJK SC Regular, 思源等宽, 黑体, Noto Serif CJK SC, 思源宋体, Noto Sans Mono CJK SC Regularsans-serif\n",
      "findfont: Generic family 'sans-serif' not found because none of the following families were found: Noto Sans CJK SC Regular, 思源等宽, 黑体, Noto Serif CJK SC, 思源宋体, Noto Sans Mono CJK SC Regularsans-serif\n",
      "findfont: Generic family 'sans-serif' not found because none of the following families were found: Noto Sans CJK SC Regular, 思源等宽, 黑体, Noto Serif CJK SC, 思源宋体, Noto Sans Mono CJK SC Regularsans-serif\n",
      "findfont: Generic family 'sans-serif' not found because none of the following families were found: Noto Sans CJK SC Regular, 思源等宽, 黑体, Noto Serif CJK SC, 思源宋体, Noto Sans Mono CJK SC Regularsans-serif\n",
      "findfont: Generic family 'sans-serif' not found because none of the following families were found: Noto Sans CJK SC Regular, 思源等宽, 黑体, Noto Serif CJK SC, 思源宋体, Noto Sans Mono CJK SC Regularsans-serif\n",
      "findfont: Generic family 'sans-serif' not found because none of the following families were found: Noto Sans CJK SC Regular, 思源等宽, 黑体, Noto Serif CJK SC, 思源宋体, Noto Sans Mono CJK SC Regularsans-serif\n",
      "findfont: Generic family 'sans-serif' not found because none of the following families were found: Noto Sans CJK SC Regular, 思源等宽, 黑体, Noto Serif CJK SC, 思源宋体, Noto Sans Mono CJK SC Regularsans-serif\n",
      "findfont: Generic family 'sans-serif' not found because none of the following families were found: Noto Sans CJK SC Regular, 思源等宽, 黑体, Noto Serif CJK SC, 思源宋体, Noto Sans Mono CJK SC Regularsans-serif\n",
      "findfont: Generic family 'sans-serif' not found because none of the following families were found: Noto Sans CJK SC Regular, 思源等宽, 黑体, Noto Serif CJK SC, 思源宋体, Noto Sans Mono CJK SC Regularsans-serif\n",
      "findfont: Generic family 'sans-serif' not found because none of the following families were found: Noto Sans CJK SC Regular, 思源等宽, 黑体, Noto Serif CJK SC, 思源宋体, Noto Sans Mono CJK SC Regularsans-serif\n",
      "findfont: Generic family 'sans-serif' not found because none of the following families were found: Noto Sans CJK SC Regular, 思源等宽, 黑体, Noto Serif CJK SC, 思源宋体, Noto Sans Mono CJK SC Regularsans-serif\n",
      "findfont: Generic family 'sans-serif' not found because none of the following families were found: Noto Sans CJK SC Regular, 思源等宽, 黑体, Noto Serif CJK SC, 思源宋体, Noto Sans Mono CJK SC Regularsans-serif\n",
      "findfont: Generic family 'sans-serif' not found because none of the following families were found: Noto Sans CJK SC Regular, 思源等宽, 黑体, Noto Serif CJK SC, 思源宋体, Noto Sans Mono CJK SC Regularsans-serif\n",
      "findfont: Generic family 'sans-serif' not found because none of the following families were found: Noto Sans CJK SC Regular, 思源等宽, 黑体, Noto Serif CJK SC, 思源宋体, Noto Sans Mono CJK SC Regularsans-serif\n",
      "findfont: Generic family 'sans-serif' not found because none of the following families were found: Noto Sans CJK SC Regular, 思源等宽, 黑体, Noto Serif CJK SC, 思源宋体, Noto Sans Mono CJK SC Regularsans-serif\n",
      "findfont: Generic family 'sans-serif' not found because none of the following families were found: Noto Sans CJK SC Regular, 思源等宽, 黑体, Noto Serif CJK SC, 思源宋体, Noto Sans Mono CJK SC Regularsans-serif\n",
      "findfont: Generic family 'sans-serif' not found because none of the following families were found: Noto Sans CJK SC Regular, 思源等宽, 黑体, Noto Serif CJK SC, 思源宋体, Noto Sans Mono CJK SC Regularsans-serif\n",
      "findfont: Generic family 'sans-serif' not found because none of the following families were found: Noto Sans CJK SC Regular, 思源等宽, 黑体, Noto Serif CJK SC, 思源宋体, Noto Sans Mono CJK SC Regularsans-serif\n",
      "findfont: Generic family 'sans-serif' not found because none of the following families were found: Noto Sans CJK SC Regular, 思源等宽, 黑体, Noto Serif CJK SC, 思源宋体, Noto Sans Mono CJK SC Regularsans-serif\n",
      "findfont: Generic family 'sans-serif' not found because none of the following families were found: Noto Sans CJK SC Regular, 思源等宽, 黑体, Noto Serif CJK SC, 思源宋体, Noto Sans Mono CJK SC Regularsans-serif\n",
      "findfont: Generic family 'sans-serif' not found because none of the following families were found: Noto Sans CJK SC Regular, 思源等宽, 黑体, Noto Serif CJK SC, 思源宋体, Noto Sans Mono CJK SC Regularsans-serif\n",
      "findfont: Generic family 'sans-serif' not found because none of the following families were found: Noto Sans CJK SC Regular, 思源等宽, 黑体, Noto Serif CJK SC, 思源宋体, Noto Sans Mono CJK SC Regularsans-serif\n",
      "findfont: Generic family 'sans-serif' not found because none of the following families were found: Noto Sans CJK SC Regular, 思源等宽, 黑体, Noto Serif CJK SC, 思源宋体, Noto Sans Mono CJK SC Regularsans-serif\n",
      "findfont: Generic family 'sans-serif' not found because none of the following families were found: Noto Sans CJK SC Regular, 思源等宽, 黑体, Noto Serif CJK SC, 思源宋体, Noto Sans Mono CJK SC Regularsans-serif\n",
      "findfont: Generic family 'sans-serif' not found because none of the following families were found: Noto Sans CJK SC Regular, 思源等宽, 黑体, Noto Serif CJK SC, 思源宋体, Noto Sans Mono CJK SC Regularsans-serif\n",
      "findfont: Generic family 'sans-serif' not found because none of the following families were found: Noto Sans CJK SC Regular, 思源等宽, 黑体, Noto Serif CJK SC, 思源宋体, Noto Sans Mono CJK SC Regularsans-serif\n",
      "findfont: Generic family 'sans-serif' not found because none of the following families were found: Noto Sans CJK SC Regular, 思源等宽, 黑体, Noto Serif CJK SC, 思源宋体, Noto Sans Mono CJK SC Regularsans-serif\n",
      "findfont: Generic family 'sans-serif' not found because none of the following families were found: Noto Sans CJK SC Regular, 思源等宽, 黑体, Noto Serif CJK SC, 思源宋体, Noto Sans Mono CJK SC Regularsans-serif\n",
      "findfont: Generic family 'sans-serif' not found because none of the following families were found: Noto Sans CJK SC Regular, 思源等宽, 黑体, Noto Serif CJK SC, 思源宋体, Noto Sans Mono CJK SC Regularsans-serif\n",
      "findfont: Generic family 'sans-serif' not found because none of the following families were found: Noto Sans CJK SC Regular, 思源等宽, 黑体, Noto Serif CJK SC, 思源宋体, Noto Sans Mono CJK SC Regularsans-serif\n",
      "findfont: Generic family 'sans-serif' not found because none of the following families were found: Noto Sans CJK SC Regular, 思源等宽, 黑体, Noto Serif CJK SC, 思源宋体, Noto Sans Mono CJK SC Regularsans-serif\n",
      "findfont: Generic family 'sans-serif' not found because none of the following families were found: Noto Sans CJK SC Regular, 思源等宽, 黑体, Noto Serif CJK SC, 思源宋体, Noto Sans Mono CJK SC Regularsans-serif\n",
      "findfont: Generic family 'sans-serif' not found because none of the following families were found: Noto Sans CJK SC Regular, 思源等宽, 黑体, Noto Serif CJK SC, 思源宋体, Noto Sans Mono CJK SC Regularsans-serif\n",
      "findfont: Generic family 'sans-serif' not found because none of the following families were found: Noto Sans CJK SC Regular, 思源等宽, 黑体, Noto Serif CJK SC, 思源宋体, Noto Sans Mono CJK SC Regularsans-serif\n",
      "findfont: Generic family 'sans-serif' not found because none of the following families were found: Noto Sans CJK SC Regular, 思源等宽, 黑体, Noto Serif CJK SC, 思源宋体, Noto Sans Mono CJK SC Regularsans-serif\n",
      "findfont: Generic family 'sans-serif' not found because none of the following families were found: Noto Sans CJK SC Regular, 思源等宽, 黑体, Noto Serif CJK SC, 思源宋体, Noto Sans Mono CJK SC Regularsans-serif\n",
      "findfont: Generic family 'sans-serif' not found because none of the following families were found: Noto Sans CJK SC Regular, 思源等宽, 黑体, Noto Serif CJK SC, 思源宋体, Noto Sans Mono CJK SC Regularsans-serif\n",
      "findfont: Generic family 'sans-serif' not found because none of the following families were found: Noto Sans CJK SC Regular, 思源等宽, 黑体, Noto Serif CJK SC, 思源宋体, Noto Sans Mono CJK SC Regularsans-serif\n",
      "findfont: Generic family 'sans-serif' not found because none of the following families were found: Noto Sans CJK SC Regular, 思源等宽, 黑体, Noto Serif CJK SC, 思源宋体, Noto Sans Mono CJK SC Regularsans-serif\n",
      "findfont: Generic family 'sans-serif' not found because none of the following families were found: Noto Sans CJK SC Regular, 思源等宽, 黑体, Noto Serif CJK SC, 思源宋体, Noto Sans Mono CJK SC Regularsans-serif\n",
      "findfont: Generic family 'sans-serif' not found because none of the following families were found: Noto Sans CJK SC Regular, 思源等宽, 黑体, Noto Serif CJK SC, 思源宋体, Noto Sans Mono CJK SC Regularsans-serif\n",
      "findfont: Generic family 'sans-serif' not found because none of the following families were found: Noto Sans CJK SC Regular, 思源等宽, 黑体, Noto Serif CJK SC, 思源宋体, Noto Sans Mono CJK SC Regularsans-serif\n",
      "findfont: Generic family 'sans-serif' not found because none of the following families were found: Noto Sans CJK SC Regular, 思源等宽, 黑体, Noto Serif CJK SC, 思源宋体, Noto Sans Mono CJK SC Regularsans-serif\n",
      "findfont: Generic family 'sans-serif' not found because none of the following families were found: Noto Sans CJK SC Regular, 思源等宽, 黑体, Noto Serif CJK SC, 思源宋体, Noto Sans Mono CJK SC Regularsans-serif\n",
      "findfont: Generic family 'sans-serif' not found because none of the following families were found: Noto Sans CJK SC Regular, 思源等宽, 黑体, Noto Serif CJK SC, 思源宋体, Noto Sans Mono CJK SC Regularsans-serif\n",
      "findfont: Generic family 'sans-serif' not found because none of the following families were found: Noto Sans CJK SC Regular, 思源等宽, 黑体, Noto Serif CJK SC, 思源宋体, Noto Sans Mono CJK SC Regularsans-serif\n",
      "findfont: Generic family 'sans-serif' not found because none of the following families were found: Noto Sans CJK SC Regular, 思源等宽, 黑体, Noto Serif CJK SC, 思源宋体, Noto Sans Mono CJK SC Regularsans-serif\n",
      "findfont: Generic family 'sans-serif' not found because none of the following families were found: Noto Sans CJK SC Regular, 思源等宽, 黑体, Noto Serif CJK SC, 思源宋体, Noto Sans Mono CJK SC Regularsans-serif\n",
      "findfont: Generic family 'sans-serif' not found because none of the following families were found: Noto Sans CJK SC Regular, 思源等宽, 黑体, Noto Serif CJK SC, 思源宋体, Noto Sans Mono CJK SC Regularsans-serif\n",
      "findfont: Generic family 'sans-serif' not found because none of the following families were found: Noto Sans CJK SC Regular, 思源等宽, 黑体, Noto Serif CJK SC, 思源宋体, Noto Sans Mono CJK SC Regularsans-serif\n",
      "findfont: Generic family 'sans-serif' not found because none of the following families were found: Noto Sans CJK SC Regular, 思源等宽, 黑体, Noto Serif CJK SC, 思源宋体, Noto Sans Mono CJK SC Regularsans-serif\n",
      "findfont: Generic family 'sans-serif' not found because none of the following families were found: Noto Sans CJK SC Regular, 思源等宽, 黑体, Noto Serif CJK SC, 思源宋体, Noto Sans Mono CJK SC Regularsans-serif\n",
      "findfont: Generic family 'sans-serif' not found because none of the following families were found: Noto Sans CJK SC Regular, 思源等宽, 黑体, Noto Serif CJK SC, 思源宋体, Noto Sans Mono CJK SC Regularsans-serif\n",
      "findfont: Generic family 'sans-serif' not found because none of the following families were found: Noto Sans CJK SC Regular, 思源等宽, 黑体, Noto Serif CJK SC, 思源宋体, Noto Sans Mono CJK SC Regularsans-serif\n",
      "findfont: Generic family 'sans-serif' not found because none of the following families were found: Noto Sans CJK SC Regular, 思源等宽, 黑体, Noto Serif CJK SC, 思源宋体, Noto Sans Mono CJK SC Regularsans-serif\n",
      "findfont: Generic family 'sans-serif' not found because none of the following families were found: Noto Sans CJK SC Regular, 思源等宽, 黑体, Noto Serif CJK SC, 思源宋体, Noto Sans Mono CJK SC Regularsans-serif\n",
      "findfont: Generic family 'sans-serif' not found because none of the following families were found: Noto Sans CJK SC Regular, 思源等宽, 黑体, Noto Serif CJK SC, 思源宋体, Noto Sans Mono CJK SC Regularsans-serif\n",
      "findfont: Generic family 'sans-serif' not found because none of the following families were found: Noto Sans CJK SC Regular, 思源等宽, 黑体, Noto Serif CJK SC, 思源宋体, Noto Sans Mono CJK SC Regularsans-serif\n",
      "findfont: Generic family 'sans-serif' not found because none of the following families were found: Noto Sans CJK SC Regular, 思源等宽, 黑体, Noto Serif CJK SC, 思源宋体, Noto Sans Mono CJK SC Regularsans-serif\n",
      "findfont: Generic family 'sans-serif' not found because none of the following families were found: Noto Sans CJK SC Regular, 思源等宽, 黑体, Noto Serif CJK SC, 思源宋体, Noto Sans Mono CJK SC Regularsans-serif\n",
      "findfont: Generic family 'sans-serif' not found because none of the following families were found: Noto Sans CJK SC Regular, 思源等宽, 黑体, Noto Serif CJK SC, 思源宋体, Noto Sans Mono CJK SC Regularsans-serif\n",
      "findfont: Generic family 'sans-serif' not found because none of the following families were found: Noto Sans CJK SC Regular, 思源等宽, 黑体, Noto Serif CJK SC, 思源宋体, Noto Sans Mono CJK SC Regularsans-serif\n",
      "findfont: Generic family 'sans-serif' not found because none of the following families were found: Noto Sans CJK SC Regular, 思源等宽, 黑体, Noto Serif CJK SC, 思源宋体, Noto Sans Mono CJK SC Regularsans-serif\n",
      "findfont: Generic family 'sans-serif' not found because none of the following families were found: Noto Sans CJK SC Regular, 思源等宽, 黑体, Noto Serif CJK SC, 思源宋体, Noto Sans Mono CJK SC Regularsans-serif\n",
      "findfont: Generic family 'sans-serif' not found because none of the following families were found: Noto Sans CJK SC Regular, 思源等宽, 黑体, Noto Serif CJK SC, 思源宋体, Noto Sans Mono CJK SC Regularsans-serif\n",
      "findfont: Generic family 'sans-serif' not found because none of the following families were found: Noto Sans CJK SC Regular, 思源等宽, 黑体, Noto Serif CJK SC, 思源宋体, Noto Sans Mono CJK SC Regularsans-serif\n",
      "findfont: Generic family 'sans-serif' not found because none of the following families were found: Noto Sans CJK SC Regular, 思源等宽, 黑体, Noto Serif CJK SC, 思源宋体, Noto Sans Mono CJK SC Regularsans-serif\n",
      "findfont: Generic family 'sans-serif' not found because none of the following families were found: Noto Sans CJK SC Regular, 思源等宽, 黑体, Noto Serif CJK SC, 思源宋体, Noto Sans Mono CJK SC Regularsans-serif\n",
      "findfont: Generic family 'sans-serif' not found because none of the following families were found: Noto Sans CJK SC Regular, 思源等宽, 黑体, Noto Serif CJK SC, 思源宋体, Noto Sans Mono CJK SC Regularsans-serif\n",
      "findfont: Generic family 'sans-serif' not found because none of the following families were found: Noto Sans CJK SC Regular, 思源等宽, 黑体, Noto Serif CJK SC, 思源宋体, Noto Sans Mono CJK SC Regularsans-serif\n",
      "findfont: Generic family 'sans-serif' not found because none of the following families were found: Noto Sans CJK SC Regular, 思源等宽, 黑体, Noto Serif CJK SC, 思源宋体, Noto Sans Mono CJK SC Regularsans-serif\n",
      "findfont: Generic family 'sans-serif' not found because none of the following families were found: Noto Sans CJK SC Regular, 思源等宽, 黑体, Noto Serif CJK SC, 思源宋体, Noto Sans Mono CJK SC Regularsans-serif\n",
      "findfont: Generic family 'sans-serif' not found because none of the following families were found: Noto Sans CJK SC Regular, 思源等宽, 黑体, Noto Serif CJK SC, 思源宋体, Noto Sans Mono CJK SC Regularsans-serif\n",
      "findfont: Generic family 'sans-serif' not found because none of the following families were found: Noto Sans CJK SC Regular, 思源等宽, 黑体, Noto Serif CJK SC, 思源宋体, Noto Sans Mono CJK SC Regularsans-serif\n",
      "findfont: Generic family 'sans-serif' not found because none of the following families were found: Noto Sans CJK SC Regular, 思源等宽, 黑体, Noto Serif CJK SC, 思源宋体, Noto Sans Mono CJK SC Regularsans-serif\n",
      "findfont: Generic family 'sans-serif' not found because none of the following families were found: Noto Sans CJK SC Regular, 思源等宽, 黑体, Noto Serif CJK SC, 思源宋体, Noto Sans Mono CJK SC Regularsans-serif\n",
      "findfont: Generic family 'sans-serif' not found because none of the following families were found: Noto Sans CJK SC Regular, 思源等宽, 黑体, Noto Serif CJK SC, 思源宋体, Noto Sans Mono CJK SC Regularsans-serif\n",
      "findfont: Generic family 'sans-serif' not found because none of the following families were found: Noto Sans CJK SC Regular, 思源等宽, 黑体, Noto Serif CJK SC, 思源宋体, Noto Sans Mono CJK SC Regularsans-serif\n",
      "findfont: Generic family 'sans-serif' not found because none of the following families were found: Noto Sans CJK SC Regular, 思源等宽, 黑体, Noto Serif CJK SC, 思源宋体, Noto Sans Mono CJK SC Regularsans-serif\n",
      "findfont: Generic family 'sans-serif' not found because none of the following families were found: Noto Sans CJK SC Regular, 思源等宽, 黑体, Noto Serif CJK SC, 思源宋体, Noto Sans Mono CJK SC Regularsans-serif\n",
      "findfont: Generic family 'sans-serif' not found because none of the following families were found: Noto Sans CJK SC Regular, 思源等宽, 黑体, Noto Serif CJK SC, 思源宋体, Noto Sans Mono CJK SC Regularsans-serif\n",
      "findfont: Generic family 'sans-serif' not found because none of the following families were found: Noto Sans CJK SC Regular, 思源等宽, 黑体, Noto Serif CJK SC, 思源宋体, Noto Sans Mono CJK SC Regularsans-serif\n",
      "findfont: Generic family 'sans-serif' not found because none of the following families were found: Noto Sans CJK SC Regular, 思源等宽, 黑体, Noto Serif CJK SC, 思源宋体, Noto Sans Mono CJK SC Regularsans-serif\n",
      "findfont: Generic family 'sans-serif' not found because none of the following families were found: Noto Sans CJK SC Regular, 思源等宽, 黑体, Noto Serif CJK SC, 思源宋体, Noto Sans Mono CJK SC Regularsans-serif\n",
      "findfont: Generic family 'sans-serif' not found because none of the following families were found: Noto Sans CJK SC Regular, 思源等宽, 黑体, Noto Serif CJK SC, 思源宋体, Noto Sans Mono CJK SC Regularsans-serif\n",
      "findfont: Generic family 'sans-serif' not found because none of the following families were found: Noto Sans CJK SC Regular, 思源等宽, 黑体, Noto Serif CJK SC, 思源宋体, Noto Sans Mono CJK SC Regularsans-serif\n",
      "findfont: Generic family 'sans-serif' not found because none of the following families were found: Noto Sans CJK SC Regular, 思源等宽, 黑体, Noto Serif CJK SC, 思源宋体, Noto Sans Mono CJK SC Regularsans-serif\n",
      "findfont: Generic family 'sans-serif' not found because none of the following families were found: Noto Sans CJK SC Regular, 思源等宽, 黑体, Noto Serif CJK SC, 思源宋体, Noto Sans Mono CJK SC Regularsans-serif\n",
      "findfont: Generic family 'sans-serif' not found because none of the following families were found: Noto Sans CJK SC Regular, 思源等宽, 黑体, Noto Serif CJK SC, 思源宋体, Noto Sans Mono CJK SC Regularsans-serif\n",
      "findfont: Generic family 'sans-serif' not found because none of the following families were found: Noto Sans CJK SC Regular, 思源等宽, 黑体, Noto Serif CJK SC, 思源宋体, Noto Sans Mono CJK SC Regularsans-serif\n",
      "findfont: Generic family 'sans-serif' not found because none of the following families were found: Noto Sans CJK SC Regular, 思源等宽, 黑体, Noto Serif CJK SC, 思源宋体, Noto Sans Mono CJK SC Regularsans-serif\n",
      "findfont: Generic family 'sans-serif' not found because none of the following families were found: Noto Sans CJK SC Regular, 思源等宽, 黑体, Noto Serif CJK SC, 思源宋体, Noto Sans Mono CJK SC Regularsans-serif\n",
      "findfont: Generic family 'sans-serif' not found because none of the following families were found: Noto Sans CJK SC Regular, 思源等宽, 黑体, Noto Serif CJK SC, 思源宋体, Noto Sans Mono CJK SC Regularsans-serif\n",
      "findfont: Generic family 'sans-serif' not found because none of the following families were found: Noto Sans CJK SC Regular, 思源等宽, 黑体, Noto Serif CJK SC, 思源宋体, Noto Sans Mono CJK SC Regularsans-serif\n",
      "findfont: Generic family 'sans-serif' not found because none of the following families were found: Noto Sans CJK SC Regular, 思源等宽, 黑体, Noto Serif CJK SC, 思源宋体, Noto Sans Mono CJK SC Regularsans-serif\n",
      "findfont: Generic family 'sans-serif' not found because none of the following families were found: Noto Sans CJK SC Regular, 思源等宽, 黑体, Noto Serif CJK SC, 思源宋体, Noto Sans Mono CJK SC Regularsans-serif\n",
      "findfont: Generic family 'sans-serif' not found because none of the following families were found: Noto Sans CJK SC Regular, 思源等宽, 黑体, Noto Serif CJK SC, 思源宋体, Noto Sans Mono CJK SC Regularsans-serif\n",
      "findfont: Generic family 'sans-serif' not found because none of the following families were found: Noto Sans CJK SC Regular, 思源等宽, 黑体, Noto Serif CJK SC, 思源宋体, Noto Sans Mono CJK SC Regularsans-serif\n",
      "findfont: Generic family 'sans-serif' not found because none of the following families were found: Noto Sans CJK SC Regular, 思源等宽, 黑体, Noto Serif CJK SC, 思源宋体, Noto Sans Mono CJK SC Regularsans-serif\n",
      "findfont: Generic family 'sans-serif' not found because none of the following families were found: Noto Sans CJK SC Regular, 思源等宽, 黑体, Noto Serif CJK SC, 思源宋体, Noto Sans Mono CJK SC Regularsans-serif\n",
      "findfont: Generic family 'sans-serif' not found because none of the following families were found: Noto Sans CJK SC Regular, 思源等宽, 黑体, Noto Serif CJK SC, 思源宋体, Noto Sans Mono CJK SC Regularsans-serif\n"
     ]
    },
    {
     "data": {
      "image/png": "[encoded data removed]",
      "text/plain": [
       "<Figure size 2000x500 with 3 Axes>"
      ]
     },
     "metadata": {},
     "output_type": "display_data"
    },
    {
     "ename": "KeyboardInterrupt",
     "evalue": "",
     "output_type": "error",
     "traceback": [
      "\u001b[0;31m---------------------------------------------------------------------------\u001b[0m",
      "\u001b[0;31mKeyboardInterrupt\u001b[0m                         Traceback (most recent call last)",
      "Cell \u001b[0;32mIn[12], line 1\u001b[0m\n\u001b[0;32m----> 1\u001b[0m agent\u001b[39m.\u001b[39;49mtrain(num_frames)\n",
      "Cell \u001b[0;32mIn[8], line 102\u001b[0m, in \u001b[0;36mDueling_DQNAgent.train\u001b[0;34m(self, num_frames, plotting_interval)\u001b[0m\n\u001b[1;32m     99\u001b[0m     score \u001b[39m=\u001b[39m \u001b[39m0\u001b[39m\n\u001b[1;32m    101\u001b[0m \u001b[39mif\u001b[39;00m \u001b[39mlen\u001b[39m(\u001b[39mself\u001b[39m\u001b[39m.\u001b[39mmemory) \u001b[39m>\u001b[39m\u001b[39m=\u001b[39m \u001b[39mself\u001b[39m\u001b[39m.\u001b[39mbatch_size:\n\u001b[0;32m--> 102\u001b[0m     loss \u001b[39m=\u001b[39m \u001b[39mself\u001b[39;49m\u001b[39m.\u001b[39;49mupdate_model()\n\u001b[1;32m    103\u001b[0m     losses\u001b[39m.\u001b[39mappend(loss)\n\u001b[1;32m    104\u001b[0m     update_cnt \u001b[39m+\u001b[39m\u001b[39m=\u001b[39m \u001b[39m1\u001b[39m\n",
      "Cell \u001b[0;32mIn[8], line 70\u001b[0m, in \u001b[0;36mDueling_DQNAgent.update_model\u001b[0;34m(self)\u001b[0m\n\u001b[1;32m     67\u001b[0m \u001b[39mdef\u001b[39;00m \u001b[39mupdate_model\u001b[39m(\u001b[39mself\u001b[39m):\n\u001b[1;32m     69\u001b[0m     samples \u001b[39m=\u001b[39m \u001b[39mself\u001b[39m\u001b[39m.\u001b[39mmemory\u001b[39m.\u001b[39msample_batch()\n\u001b[0;32m---> 70\u001b[0m     loss \u001b[39m=\u001b[39m \u001b[39mself\u001b[39;49m\u001b[39m.\u001b[39;49m_compute_dqn_loss(samples)\n\u001b[1;32m     71\u001b[0m     \u001b[39mself\u001b[39m\u001b[39m.\u001b[39moptimizer\u001b[39m.\u001b[39mzero_grad()\n\u001b[1;32m     72\u001b[0m     loss\u001b[39m.\u001b[39mbackward()\n",
      "Cell \u001b[0;32mIn[8], line 128\u001b[0m, in \u001b[0;36mDueling_DQNAgent._compute_dqn_loss\u001b[0;34m(self, samples)\u001b[0m\n\u001b[1;32m    126\u001b[0m cur_q_value \u001b[39m=\u001b[39m \u001b[39mself\u001b[39m\u001b[39m.\u001b[39mdqn(state)\u001b[39m.\u001b[39mgather(\u001b[39m1\u001b[39m, action)\n\u001b[1;32m    127\u001b[0m \u001b[39m# print(cur_q_value)\u001b[39;00m\n\u001b[0;32m--> 128\u001b[0m next_q_value \u001b[39m=\u001b[39m \u001b[39mself\u001b[39;49m\u001b[39m.\u001b[39;49mtarget_dqn(next_state)\u001b[39m.\u001b[39mmax(dim\u001b[39m=\u001b[39m\u001b[39m1\u001b[39m, keepdim\u001b[39m=\u001b[39m\u001b[39mTrue\u001b[39;00m)[\u001b[39m0\u001b[39m]\u001b[39m.\u001b[39mdetach()\n\u001b[1;32m    129\u001b[0m mask \u001b[39m=\u001b[39m \u001b[39m1\u001b[39m \u001b[39m-\u001b[39m done\n\u001b[1;32m    130\u001b[0m target \u001b[39m=\u001b[39m (reward \u001b[39m+\u001b[39m \u001b[39mself\u001b[39m\u001b[39m.\u001b[39mgamma \u001b[39m*\u001b[39m next_q_value \u001b[39m*\u001b[39m mask)\u001b[39m.\u001b[39mto(\u001b[39mself\u001b[39m\u001b[39m.\u001b[39mdevice)\n",
      "File \u001b[0;32m~/opt/anaconda3/envs/py38/lib/python3.8/site-packages/torch/nn/modules/module.py:1501\u001b[0m, in \u001b[0;36mModule._call_impl\u001b[0;34m(self, *args, **kwargs)\u001b[0m\n\u001b[1;32m   1496\u001b[0m \u001b[39m# If we don't have any hooks, we want to skip the rest of the logic in\u001b[39;00m\n\u001b[1;32m   1497\u001b[0m \u001b[39m# this function, and just call forward.\u001b[39;00m\n\u001b[1;32m   1498\u001b[0m \u001b[39mif\u001b[39;00m \u001b[39mnot\u001b[39;00m (\u001b[39mself\u001b[39m\u001b[39m.\u001b[39m_backward_hooks \u001b[39mor\u001b[39;00m \u001b[39mself\u001b[39m\u001b[39m.\u001b[39m_backward_pre_hooks \u001b[39mor\u001b[39;00m \u001b[39mself\u001b[39m\u001b[39m.\u001b[39m_forward_hooks \u001b[39mor\u001b[39;00m \u001b[39mself\u001b[39m\u001b[39m.\u001b[39m_forward_pre_hooks\n\u001b[1;32m   1499\u001b[0m         \u001b[39mor\u001b[39;00m _global_backward_pre_hooks \u001b[39mor\u001b[39;00m _global_backward_hooks\n\u001b[1;32m   1500\u001b[0m         \u001b[39mor\u001b[39;00m _global_forward_hooks \u001b[39mor\u001b[39;00m _global_forward_pre_hooks):\n\u001b[0;32m-> 1501\u001b[0m     \u001b[39mreturn\u001b[39;00m forward_call(\u001b[39m*\u001b[39;49margs, \u001b[39m*\u001b[39;49m\u001b[39m*\u001b[39;49mkwargs)\n\u001b[1;32m   1502\u001b[0m \u001b[39m# Do not call functions when jit is used\u001b[39;00m\n\u001b[1;32m   1503\u001b[0m full_backward_hooks, non_full_backward_hooks \u001b[39m=\u001b[39m [], []\n",
      "Cell \u001b[0;32mIn[3], line 25\u001b[0m, in \u001b[0;36mNetwork.forward\u001b[0;34m(self, x)\u001b[0m\n\u001b[1;32m     23\u001b[0m feature \u001b[39m=\u001b[39m \u001b[39mself\u001b[39m\u001b[39m.\u001b[39mfeature_layer(x)\n\u001b[1;32m     24\u001b[0m advantages \u001b[39m=\u001b[39m \u001b[39mself\u001b[39m\u001b[39m.\u001b[39madvantage_layer(feature)\n\u001b[0;32m---> 25\u001b[0m value \u001b[39m=\u001b[39m \u001b[39mself\u001b[39;49m\u001b[39m.\u001b[39;49mvalue_layer(feature)\n\u001b[1;32m     26\u001b[0m \u001b[39m# 有可能传入只有一条样本，直接求均值就可，如果是批量传入，则按照dim=-1 = 最后一维1，按行求均值，并保留维度\u001b[39;00m\n\u001b[1;32m     27\u001b[0m q_value \u001b[39m=\u001b[39m advantages \u001b[39m+\u001b[39m value \u001b[39m-\u001b[39m advantages\u001b[39m.\u001b[39mmean(dim\u001b[39m=\u001b[39m\u001b[39m-\u001b[39m\u001b[39m1\u001b[39m, keepdim\u001b[39m=\u001b[39m\u001b[39mTrue\u001b[39;00m)\n",
      "File \u001b[0;32m~/opt/anaconda3/envs/py38/lib/python3.8/site-packages/torch/nn/modules/module.py:1501\u001b[0m, in \u001b[0;36mModule._call_impl\u001b[0;34m(self, *args, **kwargs)\u001b[0m\n\u001b[1;32m   1496\u001b[0m \u001b[39m# If we don't have any hooks, we want to skip the rest of the logic in\u001b[39;00m\n\u001b[1;32m   1497\u001b[0m \u001b[39m# this function, and just call forward.\u001b[39;00m\n\u001b[1;32m   1498\u001b[0m \u001b[39mif\u001b[39;00m \u001b[39mnot\u001b[39;00m (\u001b[39mself\u001b[39m\u001b[39m.\u001b[39m_backward_hooks \u001b[39mor\u001b[39;00m \u001b[39mself\u001b[39m\u001b[39m.\u001b[39m_backward_pre_hooks \u001b[39mor\u001b[39;00m \u001b[39mself\u001b[39m\u001b[39m.\u001b[39m_forward_hooks \u001b[39mor\u001b[39;00m \u001b[39mself\u001b[39m\u001b[39m.\u001b[39m_forward_pre_hooks\n\u001b[1;32m   1499\u001b[0m         \u001b[39mor\u001b[39;00m _global_backward_pre_hooks \u001b[39mor\u001b[39;00m _global_backward_hooks\n\u001b[1;32m   1500\u001b[0m         \u001b[39mor\u001b[39;00m _global_forward_hooks \u001b[39mor\u001b[39;00m _global_forward_pre_hooks):\n\u001b[0;32m-> 1501\u001b[0m     \u001b[39mreturn\u001b[39;00m forward_call(\u001b[39m*\u001b[39;49margs, \u001b[39m*\u001b[39;49m\u001b[39m*\u001b[39;49mkwargs)\n\u001b[1;32m   1502\u001b[0m \u001b[39m# Do not call functions when jit is used\u001b[39;00m\n\u001b[1;32m   1503\u001b[0m full_backward_hooks, non_full_backward_hooks \u001b[39m=\u001b[39m [], []\n",
      "File \u001b[0;32m~/opt/anaconda3/envs/py38/lib/python3.8/site-packages/torch/nn/modules/container.py:217\u001b[0m, in \u001b[0;36mSequential.forward\u001b[0;34m(self, input)\u001b[0m\n\u001b[1;32m    215\u001b[0m \u001b[39mdef\u001b[39;00m \u001b[39mforward\u001b[39m(\u001b[39mself\u001b[39m, \u001b[39minput\u001b[39m):\n\u001b[1;32m    216\u001b[0m     \u001b[39mfor\u001b[39;00m module \u001b[39min\u001b[39;00m \u001b[39mself\u001b[39m:\n\u001b[0;32m--> 217\u001b[0m         \u001b[39minput\u001b[39m \u001b[39m=\u001b[39m module(\u001b[39minput\u001b[39;49m)\n\u001b[1;32m    218\u001b[0m     \u001b[39mreturn\u001b[39;00m \u001b[39minput\u001b[39m\n",
      "File \u001b[0;32m~/opt/anaconda3/envs/py38/lib/python3.8/site-packages/torch/nn/modules/module.py:1501\u001b[0m, in \u001b[0;36mModule._call_impl\u001b[0;34m(self, *args, **kwargs)\u001b[0m\n\u001b[1;32m   1496\u001b[0m \u001b[39m# If we don't have any hooks, we want to skip the rest of the logic in\u001b[39;00m\n\u001b[1;32m   1497\u001b[0m \u001b[39m# this function, and just call forward.\u001b[39;00m\n\u001b[1;32m   1498\u001b[0m \u001b[39mif\u001b[39;00m \u001b[39mnot\u001b[39;00m (\u001b[39mself\u001b[39m\u001b[39m.\u001b[39m_backward_hooks \u001b[39mor\u001b[39;00m \u001b[39mself\u001b[39m\u001b[39m.\u001b[39m_backward_pre_hooks \u001b[39mor\u001b[39;00m \u001b[39mself\u001b[39m\u001b[39m.\u001b[39m_forward_hooks \u001b[39mor\u001b[39;00m \u001b[39mself\u001b[39m\u001b[39m.\u001b[39m_forward_pre_hooks\n\u001b[1;32m   1499\u001b[0m         \u001b[39mor\u001b[39;00m _global_backward_pre_hooks \u001b[39mor\u001b[39;00m _global_backward_hooks\n\u001b[1;32m   1500\u001b[0m         \u001b[39mor\u001b[39;00m _global_forward_hooks \u001b[39mor\u001b[39;00m _global_forward_pre_hooks):\n\u001b[0;32m-> 1501\u001b[0m     \u001b[39mreturn\u001b[39;00m forward_call(\u001b[39m*\u001b[39;49margs, \u001b[39m*\u001b[39;49m\u001b[39m*\u001b[39;49mkwargs)\n\u001b[1;32m   1502\u001b[0m \u001b[39m# Do not call functions when jit is used\u001b[39;00m\n\u001b[1;32m   1503\u001b[0m full_backward_hooks, non_full_backward_hooks \u001b[39m=\u001b[39m [], []\n",
      "File \u001b[0;32m~/opt/anaconda3/envs/py38/lib/python3.8/site-packages/torch/nn/modules/linear.py:114\u001b[0m, in \u001b[0;36mLinear.forward\u001b[0;34m(self, input)\u001b[0m\n\u001b[1;32m    113\u001b[0m \u001b[39mdef\u001b[39;00m \u001b[39mforward\u001b[39m(\u001b[39mself\u001b[39m, \u001b[39minput\u001b[39m: Tensor) \u001b[39m-\u001b[39m\u001b[39m>\u001b[39m Tensor:\n\u001b[0;32m--> 114\u001b[0m     \u001b[39mreturn\u001b[39;00m F\u001b[39m.\u001b[39;49mlinear(\u001b[39minput\u001b[39;49m, \u001b[39mself\u001b[39;49m\u001b[39m.\u001b[39;49mweight, \u001b[39mself\u001b[39;49m\u001b[39m.\u001b[39;49mbias)\n",
      "\u001b[0;31mKeyboardInterrupt\u001b[0m: "
     ]
    }
   ],
   "source": [
    "agent.train(num_frames)"
   ]
  },
  {
   "cell_type": "code",
   "execution_count": 13,
   "metadata": {},
   "outputs": [
    {
     "name": "stderr",
     "output_type": "stream",
     "text": [
      "/Users/magi/opt/anaconda3/envs/py38/lib/python3.8/site-packages/gymnasium/wrappers/record_video.py:87: UserWarning: \u001b[33mWARN: Overwriting existing videos at /Users/magi/Deep_RL_implementation/Dueling_DQN/videos/dueling folder (try specifying a different `video_folder` for the `RecordVideo` wrapper if this is not desired)\u001b[0m\n",
      "  logger.warn(\n"
     ]
    },
    {
     "name": "stdout",
     "output_type": "stream",
     "text": [
      "Moviepy - Building video /Users/magi/Deep_RL_implementation/Dueling_DQN/videos/dueling/rl-video-episode-0.mp4.\n",
      "Moviepy - Writing video /Users/magi/Deep_RL_implementation/Dueling_DQN/videos/dueling/rl-video-episode-0.mp4\n",
      "\n"
     ]
    },
    {
     "name": "stderr",
     "output_type": "stream",
     "text": [
      "                                                  "
     ]
    },
    {
     "name": "stdout",
     "output_type": "stream",
     "text": [
      "Moviepy - Done !\n",
      "Moviepy - video ready /Users/magi/Deep_RL_implementation/Dueling_DQN/videos/dueling/rl-video-episode-0.mp4\n",
      "score:  5.0\n"
     ]
    },
    {
     "name": "stderr",
     "output_type": "stream",
     "text": [
      "/Users/magi/opt/anaconda3/envs/py38/lib/python3.8/site-packages/gymnasium/envs/classic_control/cartpole.py:180: UserWarning: \u001b[33mWARN: You are calling 'step()' even though this environment has already returned terminated = True. You should always call 'reset()' once you receive 'terminated = True' -- any further steps are undefined behavior.\u001b[0m\n",
      "  logger.warn(\n"
     ]
    }
   ],
   "source": [
    "video_folder=\"videos/dueling\"\n",
    "agent.test(video_folder=video_folder)"
   ]
  },
  {
   "cell_type": "code",
   "execution_count": 14,
   "metadata": {},
   "outputs": [
    {
     "data": {
      "text/html": [
       "\n",
       "        <video width=\"320\" height=\"240\" alt=\"test\" controls>\n",
       "        <source src=\"data:video/mp4;base64,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\" type=\"video/mp4\"/>\n",
       "        </video>\n",
       "        "
      ],
      "text/plain": [
       "<IPython.core.display.HTML object>"
      ]
     },
     "metadata": {},
     "output_type": "display_data"
    },
    {
     "name": "stdout",
     "output_type": "stream",
     "text": [
      "Played: videos/dueling/rl-video-episode-0.mp4\n"
     ]
    }
   ],
   "source": [
    "import base64\n",
    "import glob\n",
    "import io\n",
    "import os\n",
    "\n",
    "from IPython.display import HTML, display\n",
    "\n",
    "\n",
    "def ipython_show_video(path: str) -> None:\n",
    "    \"\"\"Show a video at `path` within IPython Notebook.\"\"\"\n",
    "    if not os.path.isfile(path):\n",
    "        raise NameError(\"Cannot access: {}\".format(path))\n",
    "\n",
    "    video = io.open(path, \"r+b\").read()\n",
    "    encoded = base64.b64encode(video)\n",
    "\n",
    "    display(HTML(\n",
    "        data=\"\"\"\n",
    "        <video width=\"320\" height=\"240\" alt=\"test\" controls>\n",
    "        <source src=\"data:video/mp4;base64,{0}\" type=\"video/mp4\"/>\n",
    "        </video>\n",
    "        \"\"\".format(encoded.decode(\"ascii\"))\n",
    "    ))\n",
    "\n",
    "\n",
    "def show_latest_video(video_folder: str) -> str:\n",
    "    \"\"\"Show the most recently recorded video from video folder.\"\"\"\n",
    "    list_of_files = glob.glob(os.path.join(video_folder, \"*.mp4\"))\n",
    "    latest_file = max(list_of_files, key=os.path.getctime)\n",
    "    ipython_show_video(latest_file)\n",
    "    return latest_file\n",
    "\n",
    "\n",
    "latest_file = show_latest_video(video_folder=video_folder)\n",
    "print(\"Played:\", latest_file)"
   ]
  },
  {
   "cell_type": "code",
   "execution_count": 13,
   "metadata": {},
   "outputs": [],
   "source": [
    "import matplotlib"
   ]
  },
  {
   "cell_type": "code",
   "execution_count": 14,
   "metadata": {},
   "outputs": [
    {
     "data": {
      "text/plain": [
       "'/Users/magi/.matplotlib'"
      ]
     },
     "execution_count": 14,
     "metadata": {},
     "output_type": "execute_result"
    }
   ],
   "source": [
    "matplotlib.get_cachedir()"
   ]
  },
  {
   "cell_type": "code",
   "execution_count": 15,
   "metadata": {},
   "outputs": [],
   "source": [
    "!rm -rf /Users/magi/.matplotlib"
   ]
  },
  {
   "cell_type": "code",
   "execution_count": null,
   "metadata": {},
   "outputs": [],
   "source": []
  }
 ],
 "metadata": {
  "kernelspec": {
   "display_name": "Python 3",
   "language": "python",
   "name": "python3"
  },
  "language_info": {
   "codemirror_mode": {
    "name": "ipython",
    "version": 3
   },
   "file_extension": ".py",
   "mimetype": "text/x-python",
   "name": "python",
   "nbconvert_exporter": "python",
   "pygments_lexer": "ipython3",
   "version": "3.8.16"
  },
  "orig_nbformat": 4
 },
 "nbformat": 4,
 "nbformat_minor": 2
}
